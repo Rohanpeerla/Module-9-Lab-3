{
  "nbformat": 4,
  "nbformat_minor": 0,
  "metadata": {
    "colab": {
      "provenance": [],
      "authorship_tag": "ABX9TyNpOlNSuPkuptQnjRw652GM",
      "include_colab_link": true
    },
    "kernelspec": {
      "name": "python3",
      "display_name": "Python 3"
    },
    "language_info": {
      "name": "python"
    }
  },
  "cells": [
    {
      "cell_type": "markdown",
      "metadata": {
        "id": "view-in-github",
        "colab_type": "text"
      },
      "source": [
        "<a href=\"https://colab.research.google.com/github/Rohanpeerla/Module-9-Lab-3/blob/master/Module_9_Lab_3_FMML.ipynb\" target=\"_parent\"><img src=\"https://colab.research.google.com/assets/colab-badge.svg\" alt=\"Open In Colab\"/></a>"
      ]
    },
    {
      "cell_type": "code",
      "execution_count": 1,
      "metadata": {
        "colab": {
          "base_uri": "https://localhost:8080/",
          "height": 308
        },
        "id": "TgMSlMP2QIFS",
        "outputId": "f4ca5869-74f8-4420-980d-44c004970515"
      },
      "outputs": [
        {
          "output_type": "display_data",
          "data": {
            "text/plain": [
              "<Figure size 640x480 with 2 Axes>"
            ],
            "image/png": "[encoded data removed]"
          },
          "metadata": {}
        }
      ],
      "source": [
        "import numpy as np\n",
        "import matplotlib.pyplot as plt\n",
        "\n",
        "vertical_kernel = np.array([[1, 0, -1],\n",
        "                            [1, 0, -1],\n",
        "                            [1, 0, -1]])\n",
        "\n",
        "horizontal_kernel = np.array([[1, 1, 1],\n",
        "                              [0, 0, 0],\n",
        "                              [-1, -1, -1]])\n",
        "\n",
        "def convolution(image, kernel):\n",
        "    image_height, image_width = image.shape\n",
        "    kernel_height, kernel_width = kernel.shape\n",
        "    output = np.zeros((image_height - kernel_height + 1, image_width - kernel_width + 1))\n",
        "    for i in range(image_height - kernel_height + 1):\n",
        "        for j in range(image_width - kernel_width + 1):\n",
        "            output[i, j] = np.sum(image[i:i+kernel_height, j:j+kernel_width] * kernel)\n",
        "    return output\n",
        "\n",
        "image1 = np.array([[1, 1, 0],\n",
        "                   [1, 1, 0],\n",
        "                   [1, 1, 0]])\n",
        "\n",
        "image2 = np.array([[0, 0, 0],\n",
        "                   [0, 0, 0],\n",
        "                   [1, 1, 1]])\n",
        "\n",
        "convolved_image1_vertical = convolution(image1, vertical_kernel)\n",
        "\n",
        "convolved_image2_horizontal = convolution(image2, horizontal_kernel)\n",
        "\n",
        "plt.subplot(1, 2, 1)\n",
        "plt.imshow(convolved_image1_vertical, cmap='gray')\n",
        "plt.title('Vertical Edge Detection')\n",
        "\n",
        "plt.subplot(1, 2, 2)\n",
        "plt.imshow(convolved_image2_horizontal, cmap='gray')\n",
        "plt.title('Horizontal Edge Detection')\n",
        "\n",
        "plt.show()\n"
      ]
    },
    {
      "cell_type": "code",
      "source": [
        "# Vertical Line filter\n",
        "filter = np.array([[1, 1, 1],\n",
        "                   [0, 0, 0],\n",
        "                   [-1, -1, -1]])\n",
        "\n",
        "# Applying filter to first image\n",
        "output = np.sum(np.multiply(image1, filter))\n",
        "print('Output from first image: ', output)\n",
        "\n",
        "# Applying filter to second image\n",
        "output = np.sum(np.multiply(image2, filter))\n",
        "print('Output from second image: ', output)\n"
      ],
      "metadata": {
        "colab": {
          "base_uri": "https://localhost:8080/"
        },
        "id": "2P5yRiEwQQFw",
        "outputId": "70219eef-8b84-4dab-fc82-a165cf20010f"
      },
      "execution_count": 2,
      "outputs": [
        {
          "output_type": "stream",
          "name": "stdout",
          "text": [
            "Output from first image:  0\n",
            "Output from second image:  -3\n"
          ]
        }
      ]
    },
    {
      "cell_type": "code",
      "source": [],
      "metadata": {
        "id": "DVSU9fajQSt4"
      },
      "execution_count": null,
      "outputs": []
    },
    {
      "cell_type": "markdown",
      "source": [
        "Convolutional Neural Networks (CNNs) are preferred over traditional Artificial Neural Networks (ANNs) for image classification tasks because they have:\n",
        "\n",
        "1.Hierarchical feature learning: CNNs are designed to automatically learn hierarchical representations of features from raw pixel values. They can capture low-level features like edges and textures in the early layers and gradually learn more complex features in deeper layers. ANNs, on the other hand, treat each pixel as an independent input, which makes it harder to learn meaningful representations directly from images.\n",
        "2.Parameter sharing: CNNs use shared weights in convolutional layers, which significantly reduces the number of parameters compared to fully connected layers in ANNs. This parameter sharing enables CNNs to generalize better with fewer training examples and reduces the risk of overfitting.\n",
        "3.Translation invariance: CNNs inherently possess translation invariance due to the use of convolutional and pooling layers. This means that they can recognize objects regardless of their position in the image. ANNs lack this property, making them less effective for tasks like object detection and localization.\n",
        "Sparse connectivity: CNNs exploit the local connectivity pattern in images by connecting each neuron to only a local region of the input volume. This sparse connectivity reduces the computational cost and allows CNNs to scale well to larger images. ANNs, on the other hand, require connections between every input and every neuron in the hidden layers, leading to a higher computational burden.\n",
        "Ability to capture spatial information: CNN architectures preserve the spatial structure of the input data throughout the network. Convolutional and pooling layers maintain the spatial relationships between pixels, enabling CNNs to capture spatial hierarchies and patterns within images more effectively than ANNs.\n",
        "4.Data augmentation: CNNs can leverage data augmentation techniques such as random cropping, rotation, and flipping to increase the diversity of training data and improve generalization. These techniques are especially effective for image data and help CNNs learn robust features from limited training examples.\n",
        "Pre-trained models: CNNs can benefit from pre-trained models on large-scale image datasets like ImageNet. Transfer learning allows CNNs to leverage knowledge learned from one task or dataset and apply it to another task with limited labeled data. This approach is less straightforward with ANNs, which often require more training data to achieve comparable performance."
      ],
      "metadata": {
        "id": "iSdF0QlnQdjZ"
      }
    },
    {
      "cell_type": "code",
      "source": [],
      "metadata": {
        "id": "MX86kmQfQuB0"
      },
      "execution_count": null,
      "outputs": []
    },
    {
      "cell_type": "markdown",
      "source": [
        "To improve CNN performance, tuning hyperparameters such as the number of epochs, optimizer, learning rate, and others can significantly impact the model's accuracy. Here's a general approach to optimize these hyperparameters:\n",
        "\n",
        "1. **Number of epochs**: Increase or decrease the number of training epochs to find the optimal balance between underfitting and overfitting. Monitor the validation accuracy to identify the point where the model starts to overfit.\n",
        "\n",
        "2. **Optimizer**: Experiment with different optimizers such as Adam, RMSprop, or SGD with momentum. Each optimizer has its own advantages, and the choice may depend on the specific dataset and model architecture.\n",
        "\n",
        "3. **Learning rate**: Tune the learning rate to control the step size during gradient descent. Too high of a learning rate can cause the model to diverge, while too low of a learning rate can lead to slow convergence. Learning rate schedulers can also be used to adjust the learning rate dynamically during training.\n",
        "\n",
        "4. **Batch size**: Adjust the batch size to balance between computation efficiency and model performance. Larger batch sizes may lead to faster training but could result in poorer generalization.\n",
        "\n",
        "5. **Regularization**: Apply techniques like dropout or L2 regularization to prevent overfitting and improve generalization performance.\n",
        "\n",
        "6. **Network architecture**: Experiment with different architectures, including the number of layers, the number of filters in each convolutional layer, and the size of the fully connected layers.\n",
        "\n",
        "7. **Data augmentation**: Augment the training data with techniques like random rotation, cropping, and flipping to increase the diversity of the dataset and improve model generalization.\n",
        "\n",
        "After tuning these hyperparameters, it's crucial to evaluate the model's performance on a separate test set to obtain an unbiased estimate of its accuracy. This process may require multiple iterations of training and evaluation until satisfactory performance is achieved.\n",
        "\n",
        "If you provide more specific details about the dataset and the current hyperparameters/settings of your CNN model, I can offer more targeted suggestions for optimization and help you report the improved test accuracy."
      ],
      "metadata": {
        "id": "vDc01CjuQ3uS"
      }
    },
    {
      "cell_type": "code",
      "source": [
        "#Reducing the number of convolutional layers to only one in a CNN typically results in a shallower model with fewer parameters. While this may lead to faster training times and lower computational requirements, it may also limit the model's capacity to learn complex features from the input data. Here's an example code demonstrating a simple CNN with only one convolutional layer:\n",
        "import numpy as np\n",
        "import tensorflow as tf\n",
        "from tensorflow.keras import layers, models\n",
        "\n",
        "model = models.Sequential([\n",
        "    layers.Conv2D(32, (3, 3), activation='relu', input_shape=(28, 28, 1)),\n",
        "    layers.MaxPooling2D((2, 2)),\n",
        "    layers.Flatten(),\n",
        "    layers.Dense(64, activation='relu'),\n",
        "    layers.Dense(10, activation='softmax')\n",
        "])\n",
        "model.compile(optimizer='adam',\n",
        "              loss='sparse_categorical_crossentropy',\n",
        "              metrics=['accuracy'])\n",
        "mnist = tf.keras.datasets.mnist\n",
        "(x_train, y_train), (x_test, y_test) = mnist.load_data()\n",
        "x_train, x_test = x_train / 255.0, x_test / 255.0\n",
        "\n",
        "x_train = np.expand_dims(x_train, axis=-1)\n",
        "x_test = np.expand_dims(x_test, axis=-1)\n",
        "\n",
        "model.fit(x_train, y_train, epochs=5, validation_data=(x_test, y_test))\n",
        "\n",
        "test_loss, test_acc = model.evaluate(x_test, y_test)\n",
        "print(\"Test accuracy:\", test_acc)\n"
      ],
      "metadata": {
        "colab": {
          "base_uri": "https://localhost:8080/"
        },
        "id": "QGz3JbbgRGbn",
        "outputId": "f119b3f7-5b56-40d1-ab4f-33d320a8a100"
      },
      "execution_count": 4,
      "outputs": [
        {
          "output_type": "stream",
          "name": "stdout",
          "text": [
            "Downloading data from https://storage.googleapis.com/tensorflow/tf-keras-datasets/mnist.npz\n",
            "11490434/11490434 [==============================] - 0s 0us/step\n",
            "Epoch 1/5\n",
            "1875/1875 [==============================] - 37s 19ms/step - loss: 0.1703 - accuracy: 0.9489 - val_loss: 0.0779 - val_accuracy: 0.9756\n",
            "Epoch 2/5\n",
            "1875/1875 [==============================] - 30s 16ms/step - loss: 0.0624 - accuracy: 0.9807 - val_loss: 0.0489 - val_accuracy: 0.9840\n",
            "Epoch 3/5\n",
            "1875/1875 [==============================] - 30s 16ms/step - loss: 0.0415 - accuracy: 0.9879 - val_loss: 0.0420 - val_accuracy: 0.9859\n",
            "Epoch 4/5\n",
            "1875/1875 [==============================] - 39s 21ms/step - loss: 0.0299 - accuracy: 0.9908 - val_loss: 0.0512 - val_accuracy: 0.9836\n",
            "Epoch 5/5\n",
            "1875/1875 [==============================] - 31s 17ms/step - loss: 0.0232 - accuracy: 0.9924 - val_loss: 0.0428 - val_accuracy: 0.9860\n",
            "313/313 [==============================] - 2s 5ms/step - loss: 0.0428 - accuracy: 0.9860\n",
            "Test accuracy: 0.9860000014305115\n"
          ]
        }
      ]
    },
    {
      "cell_type": "code",
      "source": [],
      "metadata": {
        "id": "YUq-3XQXRJx_"
      },
      "execution_count": null,
      "outputs": []
    },
    {
      "cell_type": "markdown",
      "source": [
        "4.Not using Softmax activation in the last layer of a CNN can occur in certain scenarios, such as:\n",
        "\n",
        "1.Binary Classification: If the CNN is designed for binary classification (i.e., only two classes), it's common to use a single output neuron with a sigmoid activation function instead of Softmax. The sigmoid function squashes the output to a range between 0 and 1, representing the probability of the positive class.\n",
        "2.Regression Tasks: In regression tasks where the output is a continuous value rather than discrete classes, the last layer might not use any activation function, or a suitable activation function like ReLU or linear activation can be used depending on the nature of the task.\n",
        "3.Custom Output Layer: In some cases, especially when dealing with custom architectures or specialized tasks, the output layer might have a custom activation function tailored to the specific requirements of the problem."
      ],
      "metadata": {
        "id": "_mGr-4zfRrb9"
      }
    }
  ]
}